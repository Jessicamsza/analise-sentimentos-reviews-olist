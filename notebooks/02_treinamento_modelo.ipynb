{
 "cells": [
  {
   "cell_type": "markdown",
   "metadata": {
    "id": "CSIYdWtNhbKP"
   },
   "source": [
    "# **Modelo de Classificação**"
   ]
  },
  {
   "cell_type": "markdown",
   "metadata": {
    "id": "Wps78ccplfKW"
   },
   "source": [
    "# Requisitos"
   ]
  },
  {
   "cell_type": "code",
   "execution_count": 2,
   "metadata": {
    "executionInfo": {
     "elapsed": 3,
     "status": "ok",
     "timestamp": 1757255870232,
     "user": {
      "displayName": "aquelyany RL",
      "userId": "13796561340986399392"
     },
     "user_tz": 180
    },
    "id": "5ug529LwhTbE"
   },
   "outputs": [],
   "source": [
    "import pandas as pd\n",
    "import numpy as np\n",
    "import matplotlib.pyplot as plt\n",
    "import seaborn as sns\n",
    "import joblib\n",
    "import os\n",
    "from IPython.display import Markdown\n",
    "\n",
    "\n",
    "# Pré-processamento e Modelagem\n",
    "from sklearn.model_selection import train_test_split\n",
    "from sklearn.feature_extraction.text import TfidfVectorizer\n",
    "from sklearn.linear_model import LogisticRegression\n",
    "from sklearn.pipeline import Pipeline\n",
    "\n",
    "# Métricas de Avaliação\n",
    "from sklearn.metrics import classification_report, roc_auc_score, confusion_matrix, ConfusionMatrixDisplay\n",
    "\n",
    "# Para garantir a reprodutibilidade\n",
    "RANDOM_STATE = 42"
   ]
  },
  {
   "cell_type": "markdown",
   "metadata": {
    "id": "D15pxw0ghn3F"
   },
   "source": [
    "# Carregamento e Preparação dos Dados"
   ]
  },
  {
   "cell_type": "markdown",
   "metadata": {
    "id": "VOYoKPF2hyeb"
   },
   "source": [
    "## Carregamento da base de dados"
   ]
  },
  {
   "cell_type": "code",
   "execution_count": null,
   "metadata": {
    "colab": {
     "base_uri": "https://localhost:8080/"
    },
    "executionInfo": {
     "elapsed": 999,
     "status": "ok",
     "timestamp": 1757254591983,
     "user": {
      "displayName": "aquelyany RL",
      "userId": "13796561340986399392"
     },
     "user_tz": 180
    },
    "id": "vFlp-i5Ih8LA",
    "outputId": "01f7f4f6-a3ce-40ae-d146-150de1e1686c"
   },
   "outputs": [
    {
     "name": "stdout",
     "output_type": "stream",
     "text": [
      "Número de registros após remover nulos: 40977\n",
      "Número de registros após remover notas 3: 37420\n"
     ]
    }
   ],
   "source": [
    "# Carregamento do arquivo\n",
    "df = pd.read_csv(\"https://raw.githubusercontent.com/Jessicamsza/analise-sentimentos-reviews-olist/refs/heads/main/data/olist_order_reviews_dataset.csv\")\n",
    "\n",
    "# Manter apenas reviews que POSSUEM um comentário escrito\n",
    "df_com_texto = df.dropna(subset=['review_comment_message']).copy()\n",
    "print(f\"Número de registros após remover nulos: {len(df_com_texto)}\")\n",
    "\n",
    "#Ignorar as notas 3 (neutras)\n",
    "df_filtrado = df_com_texto[df_com_texto['review_score'] != 3].copy()\n",
    "print(f\"Número de registros após remover notas 3: {len(df_filtrado)}\")"
   ]
  },
  {
   "cell_type": "markdown",
   "metadata": {
    "id": "W4oJmLchiWl-"
   },
   "source": [
    "## Criação da **variável alvo**"
   ]
  },
  {
   "cell_type": "markdown",
   "metadata": {
    "id": "ktYid8KXi9mv"
   },
   "source": [
    "\n",
    "\n",
    "---\n",
    "variável alvo: Sentimento\n",
    "\n",
    "**binária:**\n",
    "\n",
    "1 (Positivo): Nota 4 ou 5\n",
    "\n",
    "0 (Negativo): Nota 1 ou 2\n",
    "\n",
    "\n",
    "---\n",
    "\n"
   ]
  },
  {
   "cell_type": "code",
   "execution_count": 4,
   "metadata": {
    "colab": {
     "base_uri": "https://localhost:8080/"
    },
    "executionInfo": {
     "elapsed": 13,
     "status": "ok",
     "timestamp": 1757254759002,
     "user": {
      "displayName": "aquelyany RL",
      "userId": "13796561340986399392"
     },
     "user_tz": 180
    },
    "id": "qK_o1qg8iiQx",
    "outputId": "b7318907-4a2d-4aeb-aefb-94c4110b490c"
   },
   "outputs": [
    {
     "name": "stdout",
     "output_type": "stream",
     "text": [
      "Contagem de classes na variável 'sentimento':\n",
      "sentimento\n",
      "1    26530\n",
      "0    10890\n",
      "Name: count, dtype: int64\n",
      "\n",
      "Proporção de classes:\n",
      "sentimento\n",
      "1    70.90%\n",
      "0    29.10%\n",
      "Name: proportion, dtype: object\n"
     ]
    }
   ],
   "source": [
    "# Cria a coluna binária 'sentimento'\n",
    "df_filtrado['sentimento'] = np.where(df_filtrado['review_score'] >= 4, 1, 0)\n",
    "\n",
    "# Checando o resultado e o balanceamento das classes\n",
    "print(\"Contagem de classes na variável 'sentimento':\")\n",
    "print(df_filtrado['sentimento'].value_counts())\n",
    "print(\"\\nProporção de classes:\")\n",
    "print(df_filtrado['sentimento'].value_counts(normalize=True).map('{:.2%}'.format))\n",
    "\n",
    "# Seleciona as colunas que vamos usar\n",
    "X = df_filtrado['review_comment_message']\n",
    "y = df_filtrado['sentimento']"
   ]
  },
  {
   "cell_type": "markdown",
   "metadata": {
    "id": "44CT_af-jR1y"
   },
   "source": [
    "desbalanceamento de classes : aprox. 71% positivas e 29% negativas"
   ]
  },
  {
   "cell_type": "markdown",
   "metadata": {
    "id": "9--74XLmlXle"
   },
   "source": [
    "# Divisão dos Dados em Treino e Teste"
   ]
  },
  {
   "cell_type": "code",
   "execution_count": 5,
   "metadata": {
    "colab": {
     "base_uri": "https://localhost:8080/"
    },
    "executionInfo": {
     "elapsed": 50,
     "status": "ok",
     "timestamp": 1757255464390,
     "user": {
      "displayName": "aquelyany RL",
      "userId": "13796561340986399392"
     },
     "user_tz": 180
    },
    "id": "weTkNG0plXyo",
    "outputId": "7db16157-4034-4aa8-bf07-bea057347caa"
   },
   "outputs": [
    {
     "name": "stdout",
     "output_type": "stream",
     "text": [
      "Tamanho do conjunto de treino: 29936\n",
      "Tamanho do conjunto de teste: 7484\n"
     ]
    }
   ],
   "source": [
    "X_train, X_test, y_train, y_test = train_test_split(\n",
    "    X, y,\n",
    "    test_size=0.2,\n",
    "    random_state=RANDOM_STATE,\n",
    "    stratify=y #garante que a proporção de classes seja a mesma em treino e teste\n",
    ")\n",
    "\n",
    "print(f\"Tamanho do conjunto de treino: {len(X_train)}\")\n",
    "print(f\"Tamanho do conjunto de teste: {len(X_test)}\")"
   ]
  },
  {
   "cell_type": "markdown",
   "metadata": {
    "id": "TmRuqGL1qZyQ"
   },
   "source": [
    "# Modelo Baseline (Sem Balanceamento)"
   ]
  },
  {
   "cell_type": "markdown",
   "metadata": {
    "id": "RntPFQZPIbb4"
   },
   "source": [
    "Nesta seção, treinamos e avaliamos nosso primeiro modelo em cima dos dados originais desbalanceados para estabelecer uma performance de referência (baseline)."
   ]
  },
  {
   "cell_type": "markdown",
   "metadata": {
    "id": "OyLZYPBMlwTE"
   },
   "source": [
    "## Construção e Treinamento do Pipeline"
   ]
  },
  {
   "cell_type": "markdown",
   "metadata": {
    "id": "zKuuF6ddmRmC"
   },
   "source": [
    "* Usando um Pipeline do Scikit-learn. Isso agrupa o vetorizador (TF-IDF) e o classificador (Regressão Logística) em um único objeto, simplificando o processo e evitando vazamento de dados."
   ]
  },
  {
   "cell_type": "code",
   "execution_count": 7,
   "metadata": {
    "colab": {
     "base_uri": "https://localhost:8080/"
    },
    "executionInfo": {
     "elapsed": 1240,
     "status": "ok",
     "timestamp": 1757256712789,
     "user": {
      "displayName": "aquelyany RL",
      "userId": "13796561340986399392"
     },
     "user_tz": 180
    },
    "id": "SRnDHng0lyNq",
    "outputId": "643c26f1-ad3d-478b-b87d-311f46241d11"
   },
   "outputs": [
    {
     "name": "stdout",
     "output_type": "stream",
     "text": [
      "Iniciando o treinamento do modelo...\n",
      "Modelo treinado com sucesso!\n"
     ]
    }
   ],
   "source": [
    "# Criação do Pipeline\n",
    "pipeline_base = Pipeline([\n",
    "    ('tfidf', TfidfVectorizer(max_features=5000, ngram_range=(1, 2))),\n",
    "    ('logreg', LogisticRegression(random_state=RANDOM_STATE, max_iter=1000))\n",
    "])\n",
    "\n",
    "# Treinamento do pipeline com os dados de treino\n",
    "print(\"Iniciando o treinamento do modelo...\")\n",
    "pipeline_base.fit(X_train, y_train)\n",
    "print(\"Modelo treinado com sucesso!\")"
   ]
  },
  {
   "cell_type": "markdown",
   "metadata": {
    "id": "LhUiGuVRmY4c"
   },
   "source": [
    "## Avaliação do Modelo Baseline"
   ]
  },
  {
   "cell_type": "code",
   "execution_count": 8,
   "metadata": {
    "colab": {
     "base_uri": "https://localhost:8080/",
     "height": 748
    },
    "executionInfo": {
     "elapsed": 579,
     "status": "ok",
     "timestamp": 1757264957185,
     "user": {
      "displayName": "aquelyany RL",
      "userId": "13796561340986399392"
     },
     "user_tz": 180
    },
    "id": "sduaJ79Omi9P",
    "outputId": "67533094-97a1-415f-c7c8-a3a111c9f290"
   },
   "outputs": [
    {
     "data": {
      "text/markdown": [
       "\n",
       "### Relatório de Classificação (Baseline)"
      ],
      "text/plain": [
       "<IPython.core.display.Markdown object>"
      ]
     },
     "metadata": {},
     "output_type": "display_data"
    },
    {
     "name": "stdout",
     "output_type": "stream",
     "text": [
      "              precision    recall  f1-score   support\n",
      "\n",
      "    Negativo       0.88      0.87      0.87      2178\n",
      "    Positivo       0.95      0.95      0.95      5306\n",
      "\n",
      "    accuracy                           0.93      7484\n",
      "   macro avg       0.91      0.91      0.91      7484\n",
      "weighted avg       0.93      0.93      0.93      7484\n",
      "\n"
     ]
    },
    {
     "data": {
      "text/markdown": [
       "\n",
       "### AUC Score"
      ],
      "text/plain": [
       "<IPython.core.display.Markdown object>"
      ]
     },
     "metadata": {},
     "output_type": "display_data"
    },
    {
     "name": "stdout",
     "output_type": "stream",
     "text": [
      "A AUC do modelo é: 0.9730\n"
     ]
    },
    {
     "data": {
      "text/markdown": [
       "\n",
       "### Matriz de Confusão"
      ],
      "text/plain": [
       "<IPython.core.display.Markdown object>"
      ]
     },
     "metadata": {},
     "output_type": "display_data"
    },
    {
     "data": {
      "image/png": "[encoded data removed]",
      "text/plain": [
       "<Figure size 640x480 with 2 Axes>"
      ]
     },
     "metadata": {},
     "output_type": "display_data"
    }
   ],
   "source": [
    "# Fazendo predições no conjunto de teste\n",
    "y_pred_base = pipeline_base.predict(X_test)\n",
    "y_proba_base = pipeline_base.predict_proba(X_test)[:, 1] # Probabilidades para a classe positiva (1)\n",
    "\n",
    "# Relatório de Classificação (inclui Acurácia, Precisão, Recall e F1-Score)\n",
    "display(Markdown(\"\\n### Relatório de Classificação (Baseline)\"))\n",
    "print(classification_report(y_test, y_pred_base, target_names=['Negativo', 'Positivo']))\n",
    "\n",
    "# AUC (Area Under the Curve)\n",
    "auc = roc_auc_score(y_test, y_proba_base)\n",
    "display(Markdown(\"\\n### AUC Score\"))\n",
    "print(f\"A AUC do modelo é: {auc:.4f}\")\n",
    "\n",
    "# Matriz de Confusão\n",
    "display(Markdown(\"\\n### Matriz de Confusão\"))\n",
    "cm = confusion_matrix(y_test, y_pred_base)\n",
    "disp = ConfusionMatrixDisplay(confusion_matrix=cm, display_labels=['Negativo', 'Positivo'])\n",
    "disp.plot()\n",
    "plt.show()"
   ]
  },
  {
   "cell_type": "markdown",
   "metadata": {
    "id": "H3kksGmmnakA"
   },
   "source": [
    "## **Análise dos Resultados**"
   ]
  },
  {
   "cell_type": "markdown",
   "metadata": {
    "id": "-nfjS8CZKIWK"
   },
   "source": [
    "O F1-Score de **0.90** para a classe '**Positivo**' e **0.88** para a classe '**Negativ**o' mostra uma performance inicial muito forte.\n",
    "\n",
    "Como esperado, o desbalanceamento favoreceu ligeiramente a classe majoritária ('Positivo').\n",
    "\n",
    "A AUC de ~0.97 indica que o modelo já é excelente em distinguir os sentimentos.\n",
    "\n",
    "Vamos agora tentar melhorar a performance na classe minoritária ('Negativo') usando SMOTE, visando um modelo mais equilibrado.\n"
   ]
  },
  {
   "cell_type": "markdown",
   "metadata": {
    "id": "g3cymZnyraUz"
   },
   "source": [
    "# Modelo com Balanceamento de Dados (SMOTE)"
   ]
  },
  {
   "cell_type": "markdown",
   "metadata": {
    "id": "RWzDFCelJEjw"
   },
   "source": [
    "Aqui, aplicamos a técnica SMOTE para criar um conjunto de treino sinteticamente balanceado, forçando o modelo a dar a mesma importância para ambas as classes."
   ]
  },
  {
   "cell_type": "code",
   "execution_count": 9,
   "metadata": {
    "executionInfo": {
     "elapsed": 1300,
     "status": "ok",
     "timestamp": 1757257044174,
     "user": {
      "displayName": "aquelyany RL",
      "userId": "13796561340986399392"
     },
     "user_tz": 180
    },
    "id": "rK44WDsYrlB2"
   },
   "outputs": [],
   "source": [
    "from imblearn.pipeline import Pipeline as ImbPipeline\n",
    "from imblearn.over_sampling import SMOTE"
   ]
  },
  {
   "cell_type": "markdown",
   "metadata": {
    "id": "6Xg9ePCerefL"
   },
   "source": [
    "## Construção e Treinamento do Modelo Baseline"
   ]
  },
  {
   "cell_type": "code",
   "execution_count": 10,
   "metadata": {
    "colab": {
     "base_uri": "https://localhost:8080/"
    },
    "executionInfo": {
     "elapsed": 4063,
     "status": "ok",
     "timestamp": 1757265290251,
     "user": {
      "displayName": "aquelyany RL",
      "userId": "13796561340986399392"
     },
     "user_tz": 180
    },
    "id": "YRHx4KG6rkhh",
    "outputId": "5f881dd4-6e09-4784-d90e-f682fbe93b22"
   },
   "outputs": [
    {
     "name": "stdout",
     "output_type": "stream",
     "text": [
      "Iniciando o treinamento do modelo com SMOTE...\n",
      "Modelo treinado com sucesso!\n"
     ]
    }
   ],
   "source": [
    "pipeline_smote = ImbPipeline([\n",
    "    ('tfidf', TfidfVectorizer(max_features=5000, ngram_range=(1, 2))),\n",
    "    ('smote', SMOTE(random_state=RANDOM_STATE)),\n",
    "    ('logreg', LogisticRegression(random_state=RANDOM_STATE, max_iter=1000))\n",
    "])\n",
    "\n",
    "# Treinamento do pipeline\n",
    "print(\"Iniciando o treinamento do modelo com SMOTE...\")\n",
    "pipeline_smote.fit(X_train, y_train)\n",
    "print(\"Modelo treinado com sucesso!\")"
   ]
  },
  {
   "cell_type": "markdown",
   "metadata": {
    "id": "3T3JXkxgJSR2"
   },
   "source": [
    "## Avaliação do Modelo Baseline"
   ]
  },
  {
   "cell_type": "code",
   "execution_count": 11,
   "metadata": {
    "colab": {
     "base_uri": "https://localhost:8080/",
     "height": 745
    },
    "executionInfo": {
     "elapsed": 537,
     "status": "ok",
     "timestamp": 1757265292382,
     "user": {
      "displayName": "aquelyany RL",
      "userId": "13796561340986399392"
     },
     "user_tz": 180
    },
    "id": "bcmzmoIyJUhn",
    "outputId": "7a8ab072-a065-4a49-e4cb-3a37c28c0483"
   },
   "outputs": [
    {
     "data": {
      "text/markdown": [
       "\n",
       "### Relatório de Classificação (SMOTE)  "
      ],
      "text/plain": [
       "<IPython.core.display.Markdown object>"
      ]
     },
     "metadata": {},
     "output_type": "display_data"
    },
    {
     "name": "stdout",
     "output_type": "stream",
     "text": [
      "              precision    recall  f1-score   support\n",
      "\n",
      "    Negativo       0.80      0.94      0.86      2178\n",
      "    Positivo       0.97      0.91      0.94      5306\n",
      "\n",
      "    accuracy                           0.91      7484\n",
      "   macro avg       0.89      0.92      0.90      7484\n",
      "weighted avg       0.92      0.91      0.92      7484\n",
      "\n"
     ]
    },
    {
     "data": {
      "text/markdown": [
       "\n",
       "### AUC Score"
      ],
      "text/plain": [
       "<IPython.core.display.Markdown object>"
      ]
     },
     "metadata": {},
     "output_type": "display_data"
    },
    {
     "name": "stdout",
     "output_type": "stream",
     "text": [
      "A AUC do modelo é: 0.9699\n"
     ]
    },
    {
     "data": {
      "text/markdown": [
       "\n",
       "### Matriz de Confusão"
      ],
      "text/plain": [
       "<IPython.core.display.Markdown object>"
      ]
     },
     "metadata": {},
     "output_type": "display_data"
    },
    {
     "data": {
      "image/png": "[encoded data removed]",
      "text/plain": [
       "<Figure size 640x480 with 2 Axes>"
      ]
     },
     "metadata": {},
     "output_type": "display_data"
    }
   ],
   "source": [
    "# Fazendo predições no conjunto de teste\n",
    "y_pred_smote = pipeline_smote.predict(X_test)\n",
    "y_proba_smote = pipeline_smote.predict_proba(X_test)[:, 1]\n",
    "\n",
    "\n",
    "display(Markdown(\"\\n### Relatório de Classificação (SMOTE)  \"))\n",
    "print(classification_report(y_test, y_pred_smote, target_names=['Negativo', 'Positivo']))\n",
    "\n",
    "# AUC (Area Under the Curve)\n",
    "auc = roc_auc_score(y_test, y_proba_smote)\n",
    "display(Markdown(\"\\n### AUC Score\"))\n",
    "print(f\"A AUC do modelo é: {auc:.4f}\")\n",
    "\n",
    "# Matriz de Confusão\n",
    "display(Markdown(\"\\n### Matriz de Confusão\"))\n",
    "cm = confusion_matrix(y_test, y_pred_smote)\n",
    "disp = ConfusionMatrixDisplay(confusion_matrix=cm, display_labels=['Negativo', 'Positivo'])\n",
    "disp.plot()\n",
    "plt.show()"
   ]
  },
  {
   "cell_type": "markdown",
   "metadata": {
    "id": "72Zpcj-NKMz6"
   },
   "source": [
    "## Análise dos resultados\n"
   ]
  },
  {
   "cell_type": "markdown",
   "metadata": {
    "id": "V6VPu5CYKRu5"
   },
   "source": [
    "A aplicação do SMOTE otimizou o modelo para a detecção da classe 'Negativo', resultando em um claro trade-off entre precisão e recall.\n",
    "\n",
    "* Recall (Sensibilidade): Atingiu 0.93, indicando que o modelo agora identifica 93% de todos os feedbacks negativos reais, sendo seu principal ganho de performance.\n",
    "\n",
    "* Precisão: Caiu para 0.80, o que representa um aumento no número de falsos positivos (feedbacks positivos classificados como negativos).\n",
    "\n",
    "* F1-Score: O F1-Score resultante para a classe 'Negativo' foi de 0.86. Este valor, ligeiramente inferior ao do baseline (0.88), reflete o foco do modelo em maximizar a detecção (recall) em detrimento da precisão."
   ]
  },
  {
   "cell_type": "markdown",
   "metadata": {
    "id": "dzAvvPSmLxY3"
   },
   "source": [
    "# Comparação e Escolha do Modelo Final"
   ]
  },
  {
   "cell_type": "markdown",
   "metadata": {
    "id": "upxo36BDL0P2"
   },
   "source": [
    "A escolha do modelo final baseia-se no objetivo de negócio de **maximizar a identificação de clientes insatisfeitos**, priorizando o Recall da classe 'Negativo'.\n",
    "\n",
    "O modelo com SMOTE, apesar de ter um F1-Score (0.86) ligeiramente menor que o baseline (0.88), alcança um **Recall** significativamente **superior (0.93)**. Isso o torna a ferramenta mais eficaz para a tarefa crítica de minimizar a quantidade de feedbacks negativos não detectados.\n",
    "\n",
    "Portanto, o `pipeline_smote` é o modelo escolhido. O custo de negócio de não identificar um cliente insatisfeito supera o de analisar os falsos positivos gerados, alinhando esta escolha à estratégia do projeto."
   ]
  },
  {
   "cell_type": "code",
   "execution_count": 12,
   "metadata": {
    "executionInfo": {
     "elapsed": 79,
     "status": "ok",
     "timestamp": 1757265579112,
     "user": {
      "displayName": "aquelyany RL",
      "userId": "13796561340986399392"
     },
     "user_tz": 180
    },
    "id": "zv_gUjvJMJjF"
   },
   "outputs": [],
   "source": [
    "pipeline = pipeline_smote"
   ]
  },
  {
   "cell_type": "markdown",
   "metadata": {
    "id": "tcHsFfkKnvuQ"
   },
   "source": [
    "# Salvando o Modelo para o Dashboard"
   ]
  },
  {
   "cell_type": "markdown",
   "metadata": {
    "id": "I2CUGQdBnyhG"
   },
   "source": [
    "* salvar o pipeline treinado. Ele contém tanto o vetorizador quanto o modelo, pronto para ser carregado no nosso aplicativo Streamlit."
   ]
  },
  {
   "cell_type": "code",
   "execution_count": null,
   "metadata": {
    "colab": {
     "base_uri": "https://localhost:8080/"
    },
    "executionInfo": {
     "elapsed": 97,
     "status": "ok",
     "timestamp": 1757265582474,
     "user": {
      "displayName": "aquelyany RL",
      "userId": "13796561340986399392"
     },
     "user_tz": 180
    },
    "id": "GS3YlLNIn1tg",
    "outputId": "b3cea4aa-5365-4b6b-a15e-603c4e3646e7"
   },
   "outputs": [
    {
     "name": "stdout",
     "output_type": "stream",
     "text": [
      "Modelo salvo com sucesso em: ../models\\pipeline_classificacao_sentimento.pkl\n"
     ]
    }
   ],
   "source": [
    "# Define o caminho e o nome do arquivo\n",
    "MODEL_DIR = '../models'\n",
    "MODEL_PATH = os.path.join(MODEL_DIR, 'modelo_sentimento.pkl')\n",
    "\n",
    "# Cria o diretório 'models' se ele não existir\n",
    "os.makedirs(MODEL_DIR, exist_ok=True)\n",
    "\n",
    "# Salva o pipeline usando joblib\n",
    "joblib.dump(pipeline, MODEL_PATH)\n",
    "\n",
    "print(f\"Modelo salvo com sucesso em: {MODEL_PATH}\")"
   ]
  },
  {
   "cell_type": "markdown",
   "metadata": {
    "id": "J1QzFYgZlLUG"
   },
   "source": [
    "#"
   ]
  }
 ],
 "metadata": {
  "colab": {
   "authorship_tag": "ABX9TyOO4sTBDQg6J6md7NDdsJDc",
   "collapsed_sections": [
    "D15pxw0ghn3F",
    "VOYoKPF2hyeb",
    "W4oJmLchiWl-"
   ],
   "provenance": []
  },
  "kernelspec": {
   "display_name": ".venv",
   "language": "python",
   "name": "python3"
  },
  "language_info": {
   "codemirror_mode": {
    "name": "ipython",
    "version": 3
   },
   "file_extension": ".py",
   "mimetype": "text/x-python",
   "name": "python",
   "nbconvert_exporter": "python",
   "pygments_lexer": "ipython3",
   "version": "3.11.5"
  }
 },
 "nbformat": 4,
 "nbformat_minor": 0
}
